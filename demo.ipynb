{
 "cells": [
  {
   "cell_type": "markdown",
   "metadata": {},
   "source": [
    "# 🕹 Import SeQure Package"
   ]
  },
  {
   "cell_type": "code",
   "execution_count": 4,
   "metadata": {
    "ExecuteTime": {
     "end_time": "2022-09-05T16:10:06.211154Z",
     "start_time": "2022-09-05T16:10:06.208890Z"
    }
   },
   "outputs": [],
   "source": [
    "import qure"
   ]
  },
  {
   "cell_type": "markdown",
   "metadata": {},
   "source": [
    "# 🔐 Encrypt Your Private Key in SeQure Safebox"
   ]
  },
  {
   "cell_type": "code",
   "execution_count": 2,
   "metadata": {
    "ExecuteTime": {
     "end_time": "2022-09-05T15:47:14.544240Z",
     "start_time": "2022-09-05T15:47:10.754236Z"
    }
   },
   "outputs": [
    {
     "name": "stdout",
     "output_type": "stream",
     "text": [
      "Input your user id: leviathan\n",
      "Input your private key (we will never save or transmit this!):\n",
      "········\n",
      "\n",
      "🔐 Your private key are now encrypted by our post quantum-safe cryptography technology!\n",
      "\n",
      "============= 🖍 Your info for this safebox =============\n",
      "['user_id'] leviathan\n",
      "['key_id'] 26\n",
      "['encryption_algo'] Kyber512\n",
      "['ciphertext_abs'] 28abd8bf84e2c38566a2b5d664d336a5\n",
      "=========================================================\n",
      "\n",
      "Time elapsed: 0.475s.\n"
     ]
    }
   ],
   "source": [
    "qure.safebox(input('Input your user id: '),\n",
    "             qure.getpass('Input your private key (we will never save or transmit this!):\\n'))"
   ]
  },
  {
   "cell_type": "markdown",
   "metadata": {},
   "source": [
    "# 🚀 SeQurely Making Transactions Under Our Protection"
   ]
  },
  {
   "cell_type": "code",
   "execution_count": 3,
   "metadata": {
    "ExecuteTime": {
     "end_time": "2022-09-05T15:47:53.921557Z",
     "start_time": "2022-09-05T15:47:16.436394Z"
    }
   },
   "outputs": [
    {
     "name": "stdout",
     "output_type": "stream",
     "text": [
      "Input your user id: leviathan\n",
      "Input your key id: 26\n",
      "Input your ciphertext_abs: 28abd8bf84e2c38566a2b5d664d336a5\n",
      "Input your account address: 0xA5b372E60a60A70f2c6ACB87710eba30Ecc4D479\n",
      "Input the receiver's account address: 0xA059250F4b97bbB3C081f6D9e1fC7249c6Ea2A0c\n",
      "Input the value (in ETH): 0.01\n",
      "Input the url of the chain: https://eth-goerli.g.alchemy.com/v2/fss_yq1JH8COJapGjbQCuaCD77JrjQRp\n",
      "\n",
      "🚀 You are now connected to Web3!\n",
      "Current block number on the chain is 7535780.\n",
      "\n",
      "🛰 Validating account addresses...\n",
      "Account addresses are valid.\n",
      "\n",
      "🛸 Verifying your directory in SeQure safebox...\n",
      "Ciphertext abstract matched!\n",
      "\n",
      "👨‍🚀 Your transaction is now SeQurely protected by our post quantum-safe cryptography technology...\n",
      "Decrypting...\n",
      "Your transaction ID: 0xf6432d30dc3788cfae70a4f4a2734b7df22a38f5260099a6a8ee26c6f5501187.\n",
      "The transaction is successful.\n",
      "\n",
      "Time elapsed: 0.826s.\n"
     ]
    }
   ],
   "source": [
    "qure.safe_transaction(input('Input your user id: '),\n",
    "                      input('Input your key id: '),\n",
    "                      input('Input your ciphertext_abs: '),\n",
    "                      input('Input your account address: '),\n",
    "                      input(\"Input the receiver's account address: \"),\n",
    "                      input('Input the value (in ETH): '),  # 0.0001 for test use\n",
    "                      input('Input the url of the chain: '))"
   ]
  }
 ],
 "metadata": {
  "kernelspec": {
   "display_name": "Python 3",
   "language": "python",
   "name": "python3"
  },
  "language_info": {
   "codemirror_mode": {
    "name": "ipython",
    "version": 3
   },
   "file_extension": ".py",
   "mimetype": "text/x-python",
   "name": "python",
   "nbconvert_exporter": "python",
   "pygments_lexer": "ipython3",
   "version": "3.8.2"
  },
  "varInspector": {
   "cols": {
    "lenName": 16,
    "lenType": 16,
    "lenVar": 40
   },
   "kernels_config": {
    "python": {
     "delete_cmd_postfix": "",
     "delete_cmd_prefix": "del ",
     "library": "var_list.py",
     "varRefreshCmd": "print(var_dic_list())"
    },
    "r": {
     "delete_cmd_postfix": ") ",
     "delete_cmd_prefix": "rm(",
     "library": "var_list.r",
     "varRefreshCmd": "cat(var_dic_list()) "
    }
   },
   "types_to_exclude": [
    "module",
    "function",
    "builtin_function_or_method",
    "instance",
    "_Feature"
   ],
   "window_display": false
  }
 },
 "nbformat": 4,
 "nbformat_minor": 4
}
