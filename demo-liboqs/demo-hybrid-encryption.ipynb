{
 "cells": [
  {
   "cell_type": "code",
   "execution_count": 1,
   "metadata": {
    "ExecuteTime": {
     "end_time": "2022-09-03T15:13:26.848502Z",
     "start_time": "2022-09-03T15:13:26.513447Z"
    }
   },
   "outputs": [
    {
     "name": "stdout",
     "output_type": "stream",
     "text": [
      "liboqs version: 0.7.2\n",
      "liboqs-python version: 0.7.2\n",
      "\n",
      "Enabled KEM mechanisms:\n",
      "['BIKE-L1', 'BIKE-L3', 'Classic-McEliece-348864', 'Classic-McEliece-348864f',\n",
      " 'Classic-McEliece-460896', 'Classic-McEliece-460896f',\n",
      " 'Classic-McEliece-6688128', 'Classic-McEliece-6688128f',\n",
      " 'Classic-McEliece-6960119', 'Classic-McEliece-6960119f',\n",
      " 'Classic-McEliece-8192128', 'Classic-McEliece-8192128f', 'HQC-128', 'HQC-192',\n",
      " 'HQC-256', 'Kyber512', 'Kyber768', 'Kyber1024', 'Kyber512-90s', 'Kyber768-90s',\n",
      " 'Kyber1024-90s', 'NTRU-HPS-2048-509', 'NTRU-HPS-2048-677', 'NTRU-HPS-4096-821',\n",
      " 'NTRU-HPS-4096-1229', 'NTRU-HRSS-701', 'NTRU-HRSS-1373', 'ntrulpr653',\n",
      " 'ntrulpr761', 'ntrulpr857', 'ntrulpr1277', 'sntrup653', 'sntrup761',\n",
      " 'sntrup857', 'sntrup1277', 'LightSaber-KEM', 'Saber-KEM', 'FireSaber-KEM',\n",
      " 'FrodoKEM-640-AES', 'FrodoKEM-640-SHAKE', 'FrodoKEM-976-AES',\n",
      " 'FrodoKEM-976-SHAKE', 'FrodoKEM-1344-AES', 'FrodoKEM-1344-SHAKE']\n",
      "\n"
     ]
    }
   ],
   "source": [
    "# ######################################################################\n",
    "# Preparation\n",
    "# ######################################################################\n",
    "\n",
    "import os\n",
    "import oqs\n",
    "import ecdsa\n",
    "import base64\n",
    "import binascii\n",
    "from pprint import pprint\n",
    "from cryptography.fernet import Fernet\n",
    "from cryptography.hazmat.primitives import hashes\n",
    "from cryptography.hazmat.primitives.kdf.pbkdf2 import PBKDF2HMAC\n",
    "\n",
    "# ######################################################################\n",
    "# Check the library information\n",
    "# ######################################################################\n",
    "\n",
    "print(\"liboqs version:\", oqs.oqs_version())\n",
    "print(\"liboqs-python version:\", oqs.oqs_python_version())\n",
    "print(\"\\nEnabled KEM mechanisms:\")\n",
    "kems = oqs.get_enabled_KEM_mechanisms()\n",
    "pprint(kems, compact=True)\n",
    "print()"
   ]
  },
  {
   "cell_type": "code",
   "execution_count": 14,
   "metadata": {
    "ExecuteTime": {
     "end_time": "2022-09-03T14:50:32.865488Z",
     "start_time": "2022-09-03T14:50:32.857142Z"
    }
   },
   "outputs": [
    {
     "name": "stdout",
     "output_type": "stream",
     "text": [
      "The following keys are displayed in part with utf-8 style.\n",
      "\n",
      "[Key pair generation] (by client)\n",
      "KEM public_key: b'4155b88656'\n",
      "KEM secret_key: b'c609017109'\n",
      "\n",
      "[Encapsulation] (by sender)\n",
      "KEM ciphertext: b'ca130b9d38'\n",
      "KEM key (sender): b'27d39a91d2'\n",
      "\n",
      "[Decapsulation] (by receiver)\n",
      "KEM key (receiver): b'27d39a91d2'\n",
      "\n",
      "The key can be recovered by the ciphertext and secrete key.\n",
      "Be sure not to confuse secret key with secret.\n",
      "\n"
     ]
    }
   ],
   "source": [
    "# ######################################################################\n",
    "# A Simple KEM Framework\n",
    "# ######################################################################\n",
    "\n",
    "# 0. Initialization\n",
    "kem_algo = 'Kyber512'\n",
    "sender = oqs.KeyEncapsulation(kem_algo)\n",
    "\n",
    "# 1. Sender generates the key pair\n",
    "public_key = sender.generate_keypair()\n",
    "secret_key = sender.export_secret_key()\n",
    "\n",
    "print('The following keys are displayed in part with utf-8 style.\\n')\n",
    "print('[Key pair generation] (by client)')\n",
    "print('KEM public_key:', binascii.hexlify(public_key)[:10])\n",
    "print('KEM secret_key:', binascii.hexlify(secret_key)[:10])\n",
    "print()\n",
    "\n",
    "# 2. Sender generates ciphertext and key \n",
    "ciphertext, key = sender.encap_secret(public_key)\n",
    "\n",
    "print('[Encapsulation] (by sender)')\n",
    "print('KEM ciphertext:', binascii.hexlify(ciphertext)[:10])\n",
    "print('KEM key (sender):', binascii.hexlify(key)[:10])\n",
    "print()\n",
    "\n",
    "# 3. Receiver recovers the key by secret key and the ciphertext\n",
    "receiver = oqs.KeyEncapsulation(kem_algo, secret_key)\n",
    "key_receiver = receiver.decap_secret(ciphertext)\n",
    "\n",
    "print('[Decapsulation] (by receiver)')\n",
    "print('KEM key (receiver):', \n",
    "      binascii.hexlify(key_receiver)[:10])\n",
    "print('\\nThe key can be recovered by the ciphertext and secrete key.')\n",
    "print('Be sure not to confuse secret key with secret.\\n')"
   ]
  },
  {
   "cell_type": "code",
   "execution_count": 2,
   "metadata": {
    "ExecuteTime": {
     "end_time": "2022-09-03T15:13:31.575693Z",
     "start_time": "2022-09-03T15:13:31.572009Z"
    }
   },
   "outputs": [],
   "source": [
    "# ######################################################################\n",
    "# Helper Function\n",
    "# ######################################################################\n",
    "def key_transform(key, salt):\n",
    "    \"\"\"\n",
    "    This function transforms an KEM key to the format\n",
    "    of 32 url-safe base64-encoded bytes.\n",
    "    \n",
    "    Input: \n",
    "        key (bytes in binary format): the key from KEM\n",
    "        salt (bytes): a string generated by os.urandom(16)\n",
    "    Return: \n",
    "        key_ (bytes in base64 format): the key used for SKE\n",
    "    \n",
    "    Source: cryptography.io/en/latest/\n",
    "            fernet/#using-passwords-with-fernet\n",
    "    \"\"\"\n",
    "    password = binascii.hexlify(key)\n",
    "    kdf = PBKDF2HMAC(algorithm=hashes.SHA256(),\n",
    "                     length=32,\n",
    "                     salt=salt,\n",
    "                     iterations=480000)\n",
    "    key_ = base64.urlsafe_b64encode(kdf.derive(password))\n",
    "    \n",
    "    return key_"
   ]
  },
  {
   "cell_type": "code",
   "execution_count": 8,
   "metadata": {
    "ExecuteTime": {
     "end_time": "2022-09-03T15:15:27.133728Z",
     "start_time": "2022-09-03T15:15:26.159141Z"
    }
   },
   "outputs": [
    {
     "name": "stdout",
     "output_type": "stream",
     "text": [
      "The following keys are displayed in part with utf-8 style.\n",
      "\n",
      "========= Key pair generation (by sender) =========\n",
      "KEM public key: b'bd9c1db016'\n",
      "KEM secret key: b'0b1367ff06'\n",
      "\n",
      "========= Encryption (by sender) =========\n",
      "------ Step 1: Encapsulation ------\n",
      "KEM ciphertext: b'de857d69a0'\n",
      "KEM key (sender): b'fede916172'\n",
      "\n",
      "------ Step 2: Symmetric Encryption ------\n",
      "Original web3 private key:\n",
      "5906cbe7c9939c405a29b54226a26017dccee89e395d219b7f63e2dc8ed3b9ce.\n",
      "\n",
      "Encrypted web3 private key: (symmetrically encrypted using the KEM key)\n",
      "b'gAAAAABjE2-OTl6s-9YP8KSLn-1dJ79_wJVR1Nd5tJrVrvKKLIhu-8gJ1yGVzDxxGaJ70rTvioEqEfT-P4GkjntycyWBJKazqHosWIKpv_gv0RV8OhIaciWRiZrFx2Z2PcSjs2qpCU0ZXaxF54VLQ6bIQARNVn3FTpLm7d57Sp8_G2kgJANHEmw='.\n",
      "\n",
      "Outputs for the receiver: \n",
      "- encrypted web3 private key\n",
      "- ciphertext\n",
      "- secret key\n",
      "- salt (for key transformation)\n",
      "\n",
      "Our clients will only hold the encrypted web3 private key.\n",
      "They can request the other three from us if needed under 2FA.\n",
      "\n",
      "========= Decryption (by receiver) =========\n",
      "------ Step 1: Decapsulation ------\n",
      "Decapsulated KEM key: b'fede916172' (decapsulated using ciphertext and secret key)\n",
      "\n",
      "------ Step 2: Symmetric Decryption ------\n",
      "The receiver then decrypt the web3 private key (by the decapsulated KEM key and salt):\n",
      "5906cbe7c9939c405a29b54226a26017dccee89e395d219b7f63e2dc8ed3b9ce.\n",
      "\n"
     ]
    }
   ],
   "source": [
    "# ######################################################################\n",
    "# KEM for Message Encryption\n",
    "# ######################################################################\n",
    "\n",
    "# ======================================================================\n",
    "# 0. Initialization\n",
    "# ======================================================================\n",
    "kem_algo = 'Kyber512'\n",
    "sender = oqs.KeyEncapsulation(kem_algo)\n",
    "\n",
    "# 1. Sender generates the key pair\n",
    "public_key = sender.generate_keypair()\n",
    "secret_key = sender.export_secret_key()\n",
    "\n",
    "print('The following keys are displayed in part with utf-8 style.\\n')\n",
    "print('========= Key pair generation (by sender) =========')\n",
    "print('KEM public key:', binascii.hexlify(public_key)[:10])\n",
    "print('KEM secret key:', binascii.hexlify(secret_key)[:10])\n",
    "print()\n",
    "\n",
    "\n",
    "# ======================================================================\n",
    "# 2. Sender Encryption\n",
    "# ======================================================================\n",
    "# 2.1. Sender generates ciphertext and key \n",
    "ciphertext, key = sender.encap_secret(public_key)\n",
    "\n",
    "print('========= Encryption (by sender) =========')\n",
    "print('------ Step 1: Encapsulation ------')\n",
    "print('KEM ciphertext:', binascii.hexlify(ciphertext)[:10])\n",
    "print('KEM key (sender):', binascii.hexlify(key)[:10])\n",
    "print()\n",
    "\n",
    "# 2.2. Encrypt the private key on web3 (i.e., message)\n",
    "# 2.2.1. Encrypt the private key used on blockchain in utf-8 format\n",
    "message = base64.b64encode(os.urandom(32)).decode('utf-8')\n",
    "message = '5906cbe7c9939c405a29b54226a26017dccee89e395d219b7f63e2dc8ed3b9ce'\n",
    "print('------ Step 2: Symmetric Encryption ------')\n",
    "print(f'Original web3 private key:\\n{message}.\\n')\n",
    "\n",
    "# 2.2.2. Transform the key to a symmetric key (p.s. info may lose here)\n",
    "salt = os.urandom(16)\n",
    "key_ = key_transform(key, salt)\n",
    "\n",
    "# 2.2.3. Encrypt the private key used on blockchain by the transformed key\n",
    "fernet = Fernet(key_)\n",
    "private_key_web3_encrypted = fernet.encrypt(message.encode())\n",
    "print(f'Encrypted web3 private key: '\n",
    "      f'(symmetrically encrypted using the KEM key)'\n",
    "      f'\\n{private_key_web3_encrypted}.\\n')\n",
    "print(f'Outputs for the receiver: \\n'\n",
    "      '- encrypted web3 private key\\n'\n",
    "      '- ciphertext\\n'\n",
    "      '- secret key\\n'\n",
    "      '- salt (for key transformation)\\n')\n",
    "print('Our clients will only hold the encrypted web3 private key.\\n'\n",
    "      'They can request the other three from us if needed under 2FA.\\n')\n",
    "\n",
    "# ======================================================================\n",
    "# 3. Receiver Decryption\n",
    "# ======================================================================\n",
    "# 3.1. Receiver recovers the key by secret key and the ciphertext\n",
    "receiver = oqs.KeyEncapsulation(kem_algo, secret_key)\n",
    "key_receiver = receiver.decap_secret(ciphertext)\n",
    "\n",
    "print('========= Decryption (by receiver) =========')\n",
    "print('------ Step 1: Decapsulation ------')\n",
    "print('Decapsulated KEM key:', \n",
    "      binascii.hexlify(key_receiver)[:10], '(decapsulated using ciphertext and secret key)\\n')\n",
    "\n",
    "# 3.2. Receiver decrypt the message by the key\n",
    "key_receiver_ = key_transform(key_receiver, salt)\n",
    "fernet_receiver = Fernet(key_receiver_)\n",
    "private_key_web3_decrypted = fernet_receiver.decrypt(private_key_web3_encrypted).decode()\n",
    "print('------ Step 2: Symmetric Decryption ------')\n",
    "print(f'The receiver then decrypt the web3 private key '\n",
    "      f'(by the decapsulated KEM key and salt):\\n{private_key_web3_decrypted}.')\n",
    "print()\n"
   ]
  }
 ],
 "metadata": {
  "kernelspec": {
   "display_name": "Python 3",
   "language": "python",
   "name": "python3"
  },
  "language_info": {
   "codemirror_mode": {
    "name": "ipython",
    "version": 3
   },
   "file_extension": ".py",
   "mimetype": "text/x-python",
   "name": "python",
   "nbconvert_exporter": "python",
   "pygments_lexer": "ipython3",
   "version": "3.8.2"
  },
  "varInspector": {
   "cols": {
    "lenName": 16,
    "lenType": 16,
    "lenVar": 40
   },
   "kernels_config": {
    "python": {
     "delete_cmd_postfix": "",
     "delete_cmd_prefix": "del ",
     "library": "var_list.py",
     "varRefreshCmd": "print(var_dic_list())"
    },
    "r": {
     "delete_cmd_postfix": ") ",
     "delete_cmd_prefix": "rm(",
     "library": "var_list.r",
     "varRefreshCmd": "cat(var_dic_list()) "
    }
   },
   "types_to_exclude": [
    "module",
    "function",
    "builtin_function_or_method",
    "instance",
    "_Feature"
   ],
   "window_display": false
  }
 },
 "nbformat": 4,
 "nbformat_minor": 4
}
