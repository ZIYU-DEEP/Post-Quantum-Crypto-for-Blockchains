{
 "cells": [
  {
   "cell_type": "code",
   "execution_count": 1,
   "metadata": {
    "ExecuteTime": {
     "end_time": "2022-09-05T06:47:12.651848Z",
     "start_time": "2022-09-05T06:47:11.319669Z"
    }
   },
   "outputs": [],
   "source": [
    "from web3 import Web3"
   ]
  },
  {
   "cell_type": "code",
   "execution_count": 2,
   "metadata": {
    "ExecuteTime": {
     "end_time": "2022-09-05T06:47:21.232377Z",
     "start_time": "2022-09-05T06:47:21.228850Z"
    }
   },
   "outputs": [],
   "source": [
    "w3 = Web3()"
   ]
  },
  {
   "cell_type": "code",
   "execution_count": 6,
   "metadata": {
    "ExecuteTime": {
     "end_time": "2022-09-05T07:36:45.217166Z",
     "start_time": "2022-09-05T07:36:45.213981Z"
    }
   },
   "outputs": [],
   "source": [
    "url = 'https://eth-goerli.g.alchemy.com/v2/fss_yq1JH8COJapGjbQCuaCD77JrjQRp'"
   ]
  },
  {
   "cell_type": "code",
   "execution_count": 7,
   "metadata": {
    "ExecuteTime": {
     "end_time": "2022-09-05T07:36:50.137310Z",
     "start_time": "2022-09-05T07:36:50.130862Z"
    }
   },
   "outputs": [],
   "source": [
    "web3 = Web3(Web3.HTTPProvider(url))"
   ]
  },
  {
   "cell_type": "code",
   "execution_count": 8,
   "metadata": {
    "ExecuteTime": {
     "end_time": "2022-09-05T07:36:55.943822Z",
     "start_time": "2022-09-05T07:36:54.530397Z"
    }
   },
   "outputs": [
    {
     "name": "stdout",
     "output_type": "stream",
     "text": [
      "True\n"
     ]
    }
   ],
   "source": [
    "print(web3.isConnected())"
   ]
  },
  {
   "cell_type": "code",
   "execution_count": 9,
   "metadata": {
    "ExecuteTime": {
     "end_time": "2022-09-05T07:37:01.060699Z",
     "start_time": "2022-09-05T07:37:00.742706Z"
    }
   },
   "outputs": [
    {
     "name": "stdout",
     "output_type": "stream",
     "text": [
      "7533653\n"
     ]
    }
   ],
   "source": [
    "print(web3.eth.blockNumber)"
   ]
  },
  {
   "cell_type": "code",
   "execution_count": 10,
   "metadata": {
    "ExecuteTime": {
     "end_time": "2022-09-05T09:20:32.438825Z",
     "start_time": "2022-09-05T09:20:31.339401Z"
    }
   },
   "outputs": [
    {
     "data": {
      "text/plain": [
       "200000000"
      ]
     },
     "execution_count": 10,
     "metadata": {},
     "output_type": "execute_result"
    }
   ],
   "source": [
    "web3.eth.gasPrice"
   ]
  },
  {
   "cell_type": "code",
   "execution_count": 13,
   "metadata": {
    "ExecuteTime": {
     "end_time": "2022-09-05T09:23:37.935219Z",
     "start_time": "2022-09-05T09:23:37.932875Z"
    }
   },
   "outputs": [],
   "source": [
    "account_payer = '0xA5b372E60a60A70f2c6ACB87710eba30Ecc4D479'\n",
    "account_receiver = '0xA059250F4b97bbB3C081f6D9e1fC7249c6Ea2A0c'"
   ]
  },
  {
   "cell_type": "code",
   "execution_count": 14,
   "metadata": {
    "ExecuteTime": {
     "end_time": "2022-09-05T09:23:38.450578Z",
     "start_time": "2022-09-05T09:23:38.447775Z"
    }
   },
   "outputs": [],
   "source": [
    "account_payer = Web3.toChecksumAddress(account_payer)\n",
    "account_receiver = Web3.toChecksumAddress(account_receiver)"
   ]
  },
  {
   "cell_type": "code",
   "execution_count": 15,
   "metadata": {
    "ExecuteTime": {
     "end_time": "2022-09-05T09:24:22.652754Z",
     "start_time": "2022-09-05T09:24:21.656752Z"
    }
   },
   "outputs": [],
   "source": [
    "gas_price = web3.eth.gasPrice"
   ]
  },
  {
   "cell_type": "code",
   "execution_count": 17,
   "metadata": {
    "ExecuteTime": {
     "end_time": "2022-09-05T09:25:12.376676Z",
     "start_time": "2022-09-05T09:25:11.052653Z"
    }
   },
   "outputs": [],
   "source": [
    "gas = web3.eth.estimateGas({'from': account_payer,\n",
    "                            'to': account_receiver})"
   ]
  },
  {
   "cell_type": "code",
   "execution_count": 24,
   "metadata": {
    "ExecuteTime": {
     "end_time": "2022-09-05T09:28:10.048417Z",
     "start_time": "2022-09-05T09:28:09.713754Z"
    }
   },
   "outputs": [],
   "source": [
    "nonce = web3.eth.getTransactionCount(account_payer)"
   ]
  },
  {
   "cell_type": "code",
   "execution_count": 26,
   "metadata": {
    "ExecuteTime": {
     "end_time": "2022-09-05T09:28:25.789767Z",
     "start_time": "2022-09-05T09:28:25.787539Z"
    }
   },
   "outputs": [],
   "source": [
    "value = 0.01"
   ]
  },
  {
   "cell_type": "code",
   "execution_count": 27,
   "metadata": {
    "ExecuteTime": {
     "end_time": "2022-09-05T09:28:27.389273Z",
     "start_time": "2022-09-05T09:28:27.384345Z"
    }
   },
   "outputs": [],
   "source": [
    "tx = {'nonce': nonce,\n",
    "      'to': account_receiver,\n",
    "      'value': web3.toWei(value, 'ether'),\n",
    "      'gas': gas,\n",
    "      'gasPrice': gas_price,\n",
    "      'chainId': 5}"
   ]
  },
  {
   "cell_type": "code",
   "execution_count": 28,
   "metadata": {
    "ExecuteTime": {
     "end_time": "2022-09-05T09:29:02.272102Z",
     "start_time": "2022-09-05T09:29:02.256860Z"
    }
   },
   "outputs": [],
   "source": [
    "signed_tx = web3.eth.account.signTransaction(tx, '217d5c81a38240e09ee05bc4ab3efce2eb91d24973162f9833ed18aa7b4460b9')"
   ]
  },
  {
   "cell_type": "code",
   "execution_count": 29,
   "metadata": {
    "ExecuteTime": {
     "end_time": "2022-09-05T09:29:17.852580Z",
     "start_time": "2022-09-05T09:29:16.800198Z"
    }
   },
   "outputs": [],
   "source": [
    "tx_hash = web3.eth.sendRawTransaction(signed_tx.rawTransaction)"
   ]
  },
  {
   "cell_type": "code",
   "execution_count": 30,
   "metadata": {
    "ExecuteTime": {
     "end_time": "2022-09-05T09:29:26.942062Z",
     "start_time": "2022-09-05T09:29:26.939133Z"
    }
   },
   "outputs": [
    {
     "name": "stdout",
     "output_type": "stream",
     "text": [
      "0x5d3598453def719bc7fdeb0c75d0cd95dbda0b9ba3ce358016e036454a2ba3b7\n",
      "SignedTransaction(rawTransaction=HexBytes('0xf86a80840bebc1fe82520894a059250f4b97bbb3c081f6d9e1fc7249c6ea2a0c872386f26fc10000802ea08abbfa10fb6f47c5c5993a344da10b73d078360b5c99d41b2dcff3bbc8313abfa04055d7c9d15cf7e3eedf30457532bcd374ebee2a6e21076ec7e32f6ba07989f4'), hash=HexBytes('0x5d3598453def719bc7fdeb0c75d0cd95dbda0b9ba3ce358016e036454a2ba3b7'), r=62751299400029327074816709941091852717848774607773819814621011024221104585407, s=29099693626297565500403209639187510424098202437303851845503626674786279197172, v=46)\n",
      "b'\\xf8j\\x80\\x84\\x0b\\xeb\\xc1\\xfe\\x82R\\x08\\x94\\xa0Y%\\x0fK\\x97\\xbb\\xb3\\xc0\\x81\\xf6\\xd9\\xe1\\xfcrI\\xc6\\xea*\\x0c\\x87#\\x86\\xf2o\\xc1\\x00\\x00\\x80.\\xa0\\x8a\\xbb\\xfa\\x10\\xfboG\\xc5\\xc5\\x99:4M\\xa1\\x0bs\\xd0x6\\x0b\\\\\\x99\\xd4\\x1b-\\xcf\\xf3\\xbb\\xc81:\\xbf\\xa0@U\\xd7\\xc9\\xd1\\\\\\xf7\\xe3\\xee\\xdf0Eu2\\xbc\\xd3t\\xeb\\xee*n!\\x07n\\xc7\\xe3/k\\xa0y\\x89\\xf4'\n"
     ]
    }
   ],
   "source": [
    "print(web3.toHex(tx_hash))\n",
    "print(signed_tx)\n",
    "print(signed_tx.rawTransaction)"
   ]
  },
  {
   "cell_type": "code",
   "execution_count": 32,
   "metadata": {
    "ExecuteTime": {
     "end_time": "2022-09-05T09:48:26.150299Z",
     "start_time": "2022-09-05T09:48:22.640772Z"
    }
   },
   "outputs": [
    {
     "name": "stdout",
     "output_type": "stream",
     "text": [
      "The account address of the payer.df\n",
      "3\n",
      "dddf\n"
     ]
    }
   ],
   "source": [
    "k = input(prompt='The account address of the payer.')\n",
    "print(1 + 2)\n",
    "d = input(prompt='dd')\n"
   ]
  },
  {
   "cell_type": "code",
   "execution_count": 33,
   "metadata": {
    "ExecuteTime": {
     "end_time": "2022-09-05T09:55:05.879542Z",
     "start_time": "2022-09-05T09:55:05.804045Z"
    }
   },
   "outputs": [],
   "source": [
    "\"\"\"\n",
    "Filename: utils.py\n",
    "Author: Ziyu Ye\n",
    "\n",
    "This file can be seen as a package for KEM + SKE en/decryption.\n",
    "\"\"\"\n",
    "\n",
    "import os\n",
    "import oqs\n",
    "import time\n",
    "import json\n",
    "import base64\n",
    "import binascii\n",
    "import argparse\n",
    "\n",
    "from pathlib import Path\n",
    "from pprint import pprint\n",
    "from collections import OrderedDict\n",
    "from cryptography.fernet import Fernet\n",
    "from cryptography.hazmat.primitives import hashes\n",
    "from cryptography.hazmat.primitives.kdf.pbkdf2 import PBKDF2HMAC\n",
    "\n",
    "\n",
    "def bytes_to_str(text_bytes):\n",
    "    \"\"\"\n",
    "    Transform a bytes in string format.\n",
    "    Input: text (bytes)\n",
    "    Return: string format of the bytes\n",
    "    \"\"\"\n",
    "    return binascii.hexlify(text_bytes).decode('utf-8')\n",
    "\n",
    "\n",
    "def str_to_bytes(text_str):\n",
    "    \"\"\"\n",
    "    Transform a string in bytes format.\n",
    "    Input: string (bytes)\n",
    "    Return: bytes format of the bytes\n",
    "    \"\"\"\n",
    "    return binascii.unhexlify(text_str.encode('utf-8'))\n",
    "\n",
    "\n",
    "def key_transform(key: bytes=b'\\xfe',\n",
    "                  salt: bytes=b'5\\xa3'):\n",
    "    \"\"\"\n",
    "    This function transforms an KEM key to the format\n",
    "    of 32 url-safe base64-encoded bytes.\n",
    "\n",
    "    Input:\n",
    "        key (bytes in binary format): the key from KEM\n",
    "        salt (bytes): a string generated by os.urandom(16)\n",
    "    Return:\n",
    "        key_ (bytes in base64 format): the key used for SKE\n",
    "\n",
    "    Source: cryptography.io/en/latest/\n",
    "            fernet/#using-passwords-with-fernet\n",
    "    \"\"\"\n",
    "\n",
    "    password = binascii.hexlify(key)\n",
    "    kdf = PBKDF2HMAC(algorithm=hashes.SHA256(),\n",
    "                     length=32,\n",
    "                     salt=salt,\n",
    "                     iterations=480000)\n",
    "    key_ = base64.urlsafe_b64encode(kdf.derive(password))\n",
    "\n",
    "    return key_\n",
    "\n",
    "\n",
    "def hybrid_encryption(message: str='8964',\n",
    "                      kem_algo: str='Kyber512'):\n",
    "    \"\"\"\n",
    "    This function encrypts the message using KEM (Key Encryption\n",
    "    Mechanism) and SKE (Symmetric Key Encryption).\n",
    "\n",
    "    Inputs:\n",
    "        message (str): the private key used on blockchain transaction\n",
    "        kem_algo (str): the KEM algorithm\n",
    "    Return:\n",
    "        See below.\n",
    "    \"\"\"\n",
    "\n",
    "    # Initialize KEM (sender)\n",
    "    sender = oqs.KeyEncapsulation(kem_algo)\n",
    "\n",
    "    # Sender generates the key pair\n",
    "    public_key = sender.generate_keypair()\n",
    "    secret_key = sender.export_secret_key()\n",
    "\n",
    "    # Sender generates ciphertext and key\n",
    "    ciphertext, key = sender.encap_secret(public_key)\n",
    "\n",
    "    # Transform the key to a symmetric key (p.s. info may lose here)\n",
    "    salt = os.urandom(16)\n",
    "    key_ = key_transform(key, salt)\n",
    "\n",
    "    # Encrypt the private key used on blockchain by the transformed key\n",
    "    fernet = Fernet(key_)\n",
    "    message_encrypted = fernet.encrypt(message.encode())\n",
    "\n",
    "    # Notice that the key is never saved\n",
    "    return ciphertext, public_key, secret_key, salt, message_encrypted\n",
    "\n",
    "\n",
    "def hybrid_decryption(kem_algo: str='Kyber512',\n",
    "                      secret_key: bytes=b'\\x13\"l',\n",
    "                      ciphertext: bytes=b'\\xbb',\n",
    "                      salt: bytes=b'u\\xff',\n",
    "                      message_encrypted: bytes=b'8964'):\n",
    "    \"\"\"\n",
    "    This function decrypts the message encrypted using KEM\n",
    "    (Key Encryption Mechanism) and SKE (Symmetric Key Encryption).\n",
    "\n",
    "    Inputs:\n",
    "        See the above.\n",
    "    Return:\n",
    "        The private key (string with length of 64).\n",
    "    \"\"\"\n",
    "\n",
    "    receiver = oqs.KeyEncapsulation(kem_algo, secret_key)\n",
    "    fernet = Fernet(key_transform(receiver.decap_secret(ciphertext), salt))\n",
    "    return fernet.decrypt(message_encrypted).decode()\n"
   ]
  },
  {
   "cell_type": "code",
   "execution_count": null,
   "metadata": {},
   "outputs": [],
   "source": [
    "def safebox(user_id: str='leviathan',\n",
    "            message: str='8964',\n",
    "            kem_algo: str='Kyber512',):\n",
    "    \n",
    "    # Get timing\n",
    "    start_time = time.time()\n",
    "    \n",
    "    # Run hybrid encryption\n",
    "    mistery = hybrid_encryption(message, kem_algo)\n",
    "    \n",
    "    # Check the directory for user\n",
    "    user_dir = Path(root) / f'{user_id}'\n",
    "\n",
    "    if not os.path.exists(user_dir):\n",
    "        os.makedirs(user_dir)\n",
    "\n",
    "    # Assign the key id for the user\n",
    "    key_id = len(os.listdir(user_dir))\n",
    "\n",
    "    # The user dict saved in our database\n",
    "    user_dict = {'user_id': user_id,\n",
    "                 'key_id': key_id,\n",
    "                 'kem_algo': kem_algo,\n",
    "                 'ciphertext_abs': bytes_to_str(mistery[0])[:32],\n",
    "                 'ciphertext': bytes_to_str(mistery[0]),\n",
    "                 'public_key': bytes_to_str(mistery[1]),\n",
    "                 'secret_key': bytes_to_str(mistery[2]),\n",
    "                 'salt': bytes_to_str(mistery[3]),\n",
    "                 'message_encrypted': bytes_to_str(mistery[4])}\n",
    "    \n",
    "    # Order the dict\n",
    "    user_dict = OrderedDict(user_dict)\n",
    "    user_dict_local = OrderedDict(user_dict_local)\n",
    "\n",
    "    # Create the file objects\n",
    "    file = open(user_dir / f'{key_id}.json', 'w')\n",
    "    file_local = open(user_dir / f'{key_id}_local.json', 'w')\n",
    "\n",
    "    # Dump the data into the file\n",
    "    json.dump(user_dict, file, indent=4)\n",
    "    json.dump(user_dict_local, file_local, indent=4)\n",
    "    file.close()\n",
    "    file_local.close()\n",
    "\n",
    "    # Leave user a message\n",
    "    pprint(user_dict_local)\n",
    "    print(f'Time elapsed: {time.time() - start_time:.3f}s')"
   ]
  },
  {
   "cell_type": "code",
   "execution_count": null,
   "metadata": {},
   "outputs": [],
   "source": [
    "    start_time = time.time()\n",
    "\n",
    "    # Run hybrid encryption\n",
    "    mistery = utils.hybrid_encryption(message, kem_algo)\n",
    "\n",
    "    # Check the directory for user\n",
    "    user_dir = Path(root) / f'{user_id}'\n",
    "\n",
    "    if not os.path.exists(user_dir):\n",
    "        os.makedirs(user_dir)\n",
    "\n",
    "    # Assign the key id for the user\n",
    "    key_id = len(os.listdir(user_dir))\n",
    "\n",
    "    # The user dict saved in our database\n",
    "    user_dict = {'user_id': user_id,\n",
    "                 'key_id': key_id,\n",
    "                 'kem_algo': kem_algo,\n",
    "                 'ciphertext_abs': utils.bytes_to_str(mistery[0])[:32],\n",
    "                 'ciphertext': utils.bytes_to_str(mistery[0]),\n",
    "                 'public_key': utils.bytes_to_str(mistery[1]),\n",
    "                 'secret_key': utils.bytes_to_str(mistery[2]),\n",
    "                 'salt': utils.bytes_to_str(mistery[3]),\n",
    "                 'message_encrypted': utils.bytes_to_str(mistery[4])}\n",
    "\n",
    "    # The user dict saved by the user\n",
    "    user_dict_local = {i: user_dict[i] for i in\n",
    "                       ['user_id', 'key_id', 'kem_algo', 'ciphertext_abs']}\n",
    "\n",
    "    # Order the dict\n",
    "    user_dict = OrderedDict(user_dict)\n",
    "    user_dict_local = OrderedDict(user_dict_local)\n",
    "\n",
    "    # Create the file objects\n",
    "    file = open(user_dir / f'{key_id}.json', 'w')\n",
    "    file_local = open(user_dir / f'{key_id}_local.json', 'w')\n",
    "\n",
    "    # Dump the data into the file\n",
    "    json.dump(user_dict, file, indent=4)\n",
    "    json.dump(user_dict_local, file_local, indent=4)\n",
    "    file.close()\n",
    "    file_local.close()\n",
    "\n",
    "    # Leave user a message\n",
    "    pprint(user_dict_local)\n",
    "    print(f'Time elapsed: {time.time() - start_time:.3f}s')"
   ]
  }
 ],
 "metadata": {
  "kernelspec": {
   "display_name": "Python 3",
   "language": "python",
   "name": "python3"
  },
  "language_info": {
   "codemirror_mode": {
    "name": "ipython",
    "version": 3
   },
   "file_extension": ".py",
   "mimetype": "text/x-python",
   "name": "python",
   "nbconvert_exporter": "python",
   "pygments_lexer": "ipython3",
   "version": "3.8.2"
  },
  "varInspector": {
   "cols": {
    "lenName": 16,
    "lenType": 16,
    "lenVar": 40
   },
   "kernels_config": {
    "python": {
     "delete_cmd_postfix": "",
     "delete_cmd_prefix": "del ",
     "library": "var_list.py",
     "varRefreshCmd": "print(var_dic_list())"
    },
    "r": {
     "delete_cmd_postfix": ") ",
     "delete_cmd_prefix": "rm(",
     "library": "var_list.r",
     "varRefreshCmd": "cat(var_dic_list()) "
    }
   },
   "types_to_exclude": [
    "module",
    "function",
    "builtin_function_or_method",
    "instance",
    "_Feature"
   ],
   "window_display": false
  }
 },
 "nbformat": 4,
 "nbformat_minor": 4
}
